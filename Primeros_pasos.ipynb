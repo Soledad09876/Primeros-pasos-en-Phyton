{
  "nbformat": 4,
  "nbformat_minor": 0,
  "metadata": {
    "colab": {
      "provenance": [],
      "authorship_tag": "ABX9TyOGCQGNPl0c5qd/yRUM9qYE",
      "include_colab_link": true
    },
    "kernelspec": {
      "name": "python3",
      "display_name": "Python 3"
    },
    "language_info": {
      "name": "python"
    }
  },
  "cells": [
    {
      "cell_type": "markdown",
      "metadata": {
        "id": "view-in-github",
        "colab_type": "text"
      },
      "source": [
        "<a href=\"https://colab.research.google.com/github/Soledad09876/Primeros-pasos-en-Phyton/blob/main/Primeros_pasos.ipynb\" target=\"_parent\"><img src=\"https://colab.research.google.com/assets/colab-badge.svg\" alt=\"Open In Colab\"/></a>"
      ]
    },
    {
      "cell_type": "code",
      "execution_count": 7,
      "metadata": {
        "id": "vWFBS59IGNmj",
        "colab": {
          "base_uri": "https://localhost:8080/"
        },
        "outputId": "9847a443-64cc-4a74-9041-0be89765fd86"
      },
      "outputs": [
        {
          "name": "stdout",
          "output_type": "stream",
          "text": [
            "Escribe tu nombre:Soledad\n"
          ]
        }
      ],
      "source": [
        "nombre = input('Escribe tu nombre:')"
      ]
    },
    {
      "cell_type": "code",
      "source": [
        "print(f\"Hola: {nombre}.\")"
      ],
      "metadata": {
        "id": "3gtkhfe5Gy6D",
        "colab": {
          "base_uri": "https://localhost:8080/"
        },
        "outputId": "d6a7911c-e6c8-480e-859f-fd4cea830803"
      },
      "execution_count": 10,
      "outputs": [
        {
          "output_type": "stream",
          "name": "stdout",
          "text": [
            "Hola: Soledad.\n"
          ]
        }
      ]
    },
    {
      "cell_type": "code",
      "source": [
        "edad = input('Escribe tu edad:')"
      ],
      "metadata": {
        "id": "62SGCtyFGzKE",
        "colab": {
          "base_uri": "https://localhost:8080/"
        },
        "outputId": "8d84668f-2208-4c94-8f0c-ac97b789664a"
      },
      "execution_count": 12,
      "outputs": [
        {
          "name": "stdout",
          "output_type": "stream",
          "text": [
            "Escribe tu edad:46\n"
          ]
        }
      ]
    },
    {
      "cell_type": "code",
      "source": [
        "print(f\"Hola: {nombre}, tienes {edad} años.\")"
      ],
      "metadata": {
        "id": "T3G0P1gqGzZr",
        "colab": {
          "base_uri": "https://localhost:8080/"
        },
        "outputId": "d64237db-5373-452a-f115-b4f5dea80abe"
      },
      "execution_count": 14,
      "outputs": [
        {
          "output_type": "stream",
          "name": "stdout",
          "text": [
            "Hola: Soledad, tienes 46 años.\n"
          ]
        }
      ]
    },
    {
      "cell_type": "code",
      "source": [
        "altura = float (input('Escribe tu altura:'))"
      ],
      "metadata": {
        "colab": {
          "base_uri": "https://localhost:8080/"
        },
        "id": "nxZljyRhL6f3",
        "outputId": "4c4a42b4-1b78-451c-9ce8-37b8491f6686"
      },
      "execution_count": 1,
      "outputs": [
        {
          "name": "stdout",
          "output_type": "stream",
          "text": [
            "Escribe tu altura:1.67\n"
          ]
        }
      ]
    },
    {
      "cell_type": "code",
      "source": [
        "print(f\"Hola: {nombre}, tienes {edad} años y mides {altura} metros\")"
      ],
      "metadata": {
        "colab": {
          "base_uri": "https://localhost:8080/"
        },
        "id": "vCFbqsuzMCyM",
        "outputId": "f76479a2-f818-401c-ea51-31c974e3f813"
      },
      "execution_count": 17,
      "outputs": [
        {
          "output_type": "stream",
          "name": "stdout",
          "text": [
            "Hola: Soledad, tienes 46 años y mides 1.67 metros\n"
          ]
        }
      ]
    },
    {
      "cell_type": "code",
      "source": [
        "num1 = int (input('Dame un numero:'))\n",
        "num2 = int (input ('Dame otro numero:'))"
      ],
      "metadata": {
        "colab": {
          "base_uri": "https://localhost:8080/"
        },
        "id": "GcHKliV5M3Ka",
        "outputId": "1dbf59fa-f2be-405c-8202-a012cc778838"
      },
      "execution_count": 33,
      "outputs": [
        {
          "name": "stdout",
          "output_type": "stream",
          "text": [
            "Dame un numero:1\n",
            "Dame otro numero:2\n"
          ]
        }
      ]
    },
    {
      "cell_type": "code",
      "source": [
        "suma = num1 + num2\n",
        "print(f\"La suma de {num1} y {num2} es {suma}\")"
      ],
      "metadata": {
        "colab": {
          "base_uri": "https://localhost:8080/"
        },
        "id": "8dnxWE45QSEY",
        "outputId": "232737e9-51cc-4c88-a9ac-6bb77f6e98b8"
      },
      "execution_count": 34,
      "outputs": [
        {
          "output_type": "stream",
          "name": "stdout",
          "text": [
            "La suma de 1 y 2 es 3\n"
          ]
        }
      ]
    },
    {
      "cell_type": "code",
      "source": [
        "num1 = int (input('Dame un numero:'))\n",
        "num2 = int (input ('Dame otro numero:'))\n",
        "num3 = int (input('Dame el ultimo numero:'))"
      ],
      "metadata": {
        "colab": {
          "base_uri": "https://localhost:8080/"
        },
        "id": "60dQBWvqTCon",
        "outputId": "022d94f3-abc9-4665-8c21-bd70e2b2cfa7"
      },
      "execution_count": 35,
      "outputs": [
        {
          "name": "stdout",
          "output_type": "stream",
          "text": [
            "Dame un numero:1\n",
            "Dame otro numero:2\n",
            "Dame el ultimo numero:3\n"
          ]
        }
      ]
    },
    {
      "cell_type": "code",
      "source": [
        "suma = num1 + num2 + num3\n",
        "print(f\"La suma de {num1} , {num2} y {num3} es {suma}\")"
      ],
      "metadata": {
        "colab": {
          "base_uri": "https://localhost:8080/"
        },
        "id": "Xlfn7JWEU2Wf",
        "outputId": "336465e3-d075-4457-de7b-e66dba61864e"
      },
      "execution_count": 36,
      "outputs": [
        {
          "output_type": "stream",
          "name": "stdout",
          "text": [
            "La suma de 1 , 2 y 3 es 6\n"
          ]
        }
      ]
    },
    {
      "cell_type": "code",
      "source": [
        "resta = num1 - num2\n",
        "\n",
        "print(f\"La resta de {num1} y {num2} es {resta}\")"
      ],
      "metadata": {
        "colab": {
          "base_uri": "https://localhost:8080/"
        },
        "id": "CklIRoPLVMRD",
        "outputId": "5d5c0ca6-c603-4245-a447-5c1f6f931102"
      },
      "execution_count": 38,
      "outputs": [
        {
          "output_type": "stream",
          "name": "stdout",
          "text": [
            "La resta de 1 y 2 es -1\n"
          ]
        }
      ]
    },
    {
      "cell_type": "code",
      "source": [
        "multiplicacion = num1 * num2\n",
        "print(f\"La multiplicacion de {num1} y {num2} es {multiplicacion}\")"
      ],
      "metadata": {
        "colab": {
          "base_uri": "https://localhost:8080/"
        },
        "id": "1yN3UzezVNJ6",
        "outputId": "5e2aa508-1930-4ff3-cfb9-10ef7a308d00"
      },
      "execution_count": 39,
      "outputs": [
        {
          "output_type": "stream",
          "name": "stdout",
          "text": [
            "La multiplicacion de 1 y 2 es 2\n"
          ]
        }
      ]
    },
    {
      "cell_type": "code",
      "source": [
        "division = num3 / num2\n",
        "print(f\"La division de {num3} y {num2} es {division}\")"
      ],
      "metadata": {
        "colab": {
          "base_uri": "https://localhost:8080/"
        },
        "id": "zYCNGtKrVNZa",
        "outputId": "ac9f0d1d-7f92-412f-a40d-9eee13e828af"
      },
      "execution_count": 49,
      "outputs": [
        {
          "output_type": "stream",
          "name": "stdout",
          "text": [
            "La division de 3 y 6 es 0.5\n"
          ]
        }
      ]
    },
    {
      "cell_type": "code",
      "source": [
        "# Crea un programa que solicite dos valores numéricos, un operador y una potencia, y realice la exponenciación entre estos dos valores."
      ],
      "metadata": {
        "id": "A-oy9iVjWfEI"
      },
      "execution_count": null,
      "outputs": []
    },
    {
      "cell_type": "code",
      "source": [
        "num1 = int (input('Dame un numero:'))\n",
        "num2 = int (input ('Dame otro numero:'))"
      ],
      "metadata": {
        "colab": {
          "base_uri": "https://localhost:8080/"
        },
        "id": "89ybfBWiWfw2",
        "outputId": "db6f4698-90dd-4bc1-90cc-bf0e51f226dc"
      },
      "execution_count": 41,
      "outputs": [
        {
          "name": "stdout",
          "output_type": "stream",
          "text": [
            "Dame un numero:2\n",
            "Dame otro numero:3\n"
          ]
        }
      ]
    },
    {
      "cell_type": "code",
      "source": [
        "potencia = num1 ** num2\n",
        "print(f\"La potencia de {num1} y {num2} es {potencia}\")"
      ],
      "metadata": {
        "colab": {
          "base_uri": "https://localhost:8080/"
        },
        "id": "S9PN9wZ9WgBe",
        "outputId": "360922b9-1bf6-4a5a-b78f-42abf8af2c1c"
      },
      "execution_count": 43,
      "outputs": [
        {
          "output_type": "stream",
          "name": "stdout",
          "text": [
            "La potencia de 2 y 3 es 8\n"
          ]
        }
      ]
    },
    {
      "cell_type": "code",
      "source": [
        "# Crea un programa que solicite dos valores numéricos, un numerador y un denominador, y realice la división entera entre los dos valores.\n",
        "# Asegúrate de que el valor del denominador no sea igual a 0."
      ],
      "metadata": {
        "id": "5PyjBJNUWgOn"
      },
      "execution_count": null,
      "outputs": []
    },
    {
      "cell_type": "code",
      "source": [
        "num1 = int (input ('Dame un numero:'))\n",
        "num2 = int (input ('Dame otro numero:'))"
      ],
      "metadata": {
        "colab": {
          "base_uri": "https://localhost:8080/"
        },
        "id": "oQWtiwFeWghW",
        "outputId": "cf72f0eb-1912-41e0-ddb8-29063a295305"
      },
      "execution_count": 9,
      "outputs": [
        {
          "name": "stdout",
          "output_type": "stream",
          "text": [
            "Dame un numero:8\n",
            "Dame otro numero:2\n"
          ]
        }
      ]
    },
    {
      "cell_type": "code",
      "source": [
        "nueve = num2 / num1\n",
        "\n",
        "print (f\"la division entre {num2} y {num1} es {nueve}\")"
      ],
      "metadata": {
        "colab": {
          "base_uri": "https://localhost:8080/"
        },
        "id": "TaF59otRXpmO",
        "outputId": "4b21706b-c9b4-431c-efb3-4869b5f16eef"
      },
      "execution_count": 10,
      "outputs": [
        {
          "output_type": "stream",
          "name": "stdout",
          "text": [
            "la division entre 2 y 8 es 0.25\n"
          ]
        }
      ]
    },
    {
      "cell_type": "code",
      "source": [
        "resto = num2 % num1\n",
        "print(f\"el resto entre {num2} y {num1} es {resto}\")"
      ],
      "metadata": {
        "colab": {
          "base_uri": "https://localhost:8080/"
        },
        "id": "SiyOlJQhZo3-",
        "outputId": "4ccac7b8-ad71-4101-c05a-83162911cdd4"
      },
      "execution_count": 54,
      "outputs": [
        {
          "output_type": "stream",
          "name": "stdout",
          "text": [
            "el resto entre 6 y 8 es 6\n"
          ]
        }
      ]
    },
    {
      "cell_type": "code",
      "source": [
        "#  Crea un código que solicite las 3 notas de un estudiante e imprima el promedio de las notas."
      ],
      "metadata": {
        "id": "7enufzuSaxM2"
      },
      "execution_count": null,
      "outputs": []
    },
    {
      "cell_type": "code",
      "source": [
        "num1 = float (input ('Dame la primera nota:'))\n",
        "num2 = float (input ('Dame la segunda nota:'))\n",
        "num3 = float (input ('Dame la tercera nota:'))"
      ],
      "metadata": {
        "colab": {
          "base_uri": "https://localhost:8080/"
        },
        "id": "VhBib5BTa0Pi",
        "outputId": "0e5c3667-9218-4d07-e49d-707a4af30455"
      },
      "execution_count": 57,
      "outputs": [
        {
          "name": "stdout",
          "output_type": "stream",
          "text": [
            "Dame la primera nota:6.6\n",
            "Dame la segunda nota:7.0\n",
            "Dame la tercera nota:3.6\n"
          ]
        }
      ]
    },
    {
      "cell_type": "code",
      "source": [
        "promedio = (num1 + num2 + num3) / 3\n",
        "print (f\"el promedio de notas es: {promedio}.\")"
      ],
      "metadata": {
        "colab": {
          "base_uri": "https://localhost:8080/"
        },
        "id": "qa2fb4a4khNi",
        "outputId": "12b5872b-9a2c-4410-a25e-e64e0a26e546"
      },
      "execution_count": 62,
      "outputs": [
        {
          "output_type": "stream",
          "name": "stdout",
          "text": [
            "el promedio de notas es: 5.733333333333333.\n"
          ]
        }
      ]
    },
    {
      "cell_type": "code",
      "source": [
        "# Crea un código que calcule e imprima el promedio ponderado de los números 5, 12, 20 y 15 con pesos respectivamente iguales a 1, 2, 3 y 4."
      ],
      "metadata": {
        "id": "596uoB-5lhAC"
      },
      "execution_count": null,
      "outputs": []
    },
    {
      "cell_type": "code",
      "source": [
        "num1 = 5*1\n",
        "print (num1)"
      ],
      "metadata": {
        "colab": {
          "base_uri": "https://localhost:8080/"
        },
        "id": "b4TfHNAzlj7b",
        "outputId": "7f457675-c4f5-4dab-fd7e-5a06c5637ecc"
      },
      "execution_count": 72,
      "outputs": [
        {
          "output_type": "stream",
          "name": "stdout",
          "text": [
            "5\n"
          ]
        }
      ]
    },
    {
      "cell_type": "code",
      "source": [
        "num2 = 12*2\n",
        "print (num2)"
      ],
      "metadata": {
        "colab": {
          "base_uri": "https://localhost:8080/"
        },
        "id": "d-h9hivbm8Vq",
        "outputId": "03618963-0cc3-4460-e6fa-cc4d70e9d893"
      },
      "execution_count": 74,
      "outputs": [
        {
          "output_type": "stream",
          "name": "stdout",
          "text": [
            "24\n"
          ]
        }
      ]
    },
    {
      "cell_type": "code",
      "source": [
        "num3 = 20*3\n",
        "print (num3)"
      ],
      "metadata": {
        "colab": {
          "base_uri": "https://localhost:8080/"
        },
        "id": "Ujq7ielBm8mx",
        "outputId": "064058aa-61d6-4711-c9f2-dd9f33d5b6ba"
      },
      "execution_count": 75,
      "outputs": [
        {
          "output_type": "stream",
          "name": "stdout",
          "text": [
            "60\n"
          ]
        }
      ]
    },
    {
      "cell_type": "code",
      "source": [
        "num4 = 15*4\n",
        "print (num4)"
      ],
      "metadata": {
        "colab": {
          "base_uri": "https://localhost:8080/"
        },
        "id": "STnnNr15m82S",
        "outputId": "f6f1d116-bf54-4e8f-8726-07681b83cffc"
      },
      "execution_count": 76,
      "outputs": [
        {
          "output_type": "stream",
          "name": "stdout",
          "text": [
            "60\n"
          ]
        }
      ]
    },
    {
      "cell_type": "code",
      "source": [
        "calculo = (num1 + num2 + num3 + num4) / 4\n",
        "print (f\"el calculo es: {calculo}.\")"
      ],
      "metadata": {
        "colab": {
          "base_uri": "https://localhost:8080/"
        },
        "id": "XX5079HEo3nn",
        "outputId": "9e481033-c84a-4807-d91c-f95d7ddc140b"
      },
      "execution_count": 85,
      "outputs": [
        {
          "output_type": "stream",
          "name": "stdout",
          "text": [
            "el calculo es: 37.25.\n"
          ]
        }
      ]
    },
    {
      "cell_type": "code",
      "source": [
        "Frase = \"Me gusta el choclo\"\n",
        "print (Frase)"
      ],
      "metadata": {
        "colab": {
          "base_uri": "https://localhost:8080/"
        },
        "id": "Zi_5xp10pelH",
        "outputId": "225fe6ad-af32-4597-86ff-a2a8d847083b"
      },
      "execution_count": 88,
      "outputs": [
        {
          "output_type": "stream",
          "name": "stdout",
          "text": [
            "Me gusta el choclo\n"
          ]
        }
      ]
    },
    {
      "cell_type": "markdown",
      "source": [],
      "metadata": {
        "id": "mePyGCOdqe_v"
      }
    },
    {
      "cell_type": "code",
      "source": [
        "fruta = str(input(\"cual es tu fruta favorita?:\"))"
      ],
      "metadata": {
        "colab": {
          "base_uri": "https://localhost:8080/"
        },
        "id": "GUBq_kiFqNlH",
        "outputId": "7e6bce59-ade0-4605-a91f-acfc4c69df0b"
      },
      "execution_count": 12,
      "outputs": [
        {
          "name": "stdout",
          "output_type": "stream",
          "text": [
            "cual es tu fruta favorita?:piña\n"
          ]
        }
      ]
    },
    {
      "cell_type": "code",
      "source": [
        "print(f\"Mi fruta favorita es: {fruta}.\")"
      ],
      "metadata": {
        "colab": {
          "base_uri": "https://localhost:8080/"
        },
        "id": "JQ5ITa7ed7jo",
        "outputId": "c76b2d1f-c53c-4fa1-9ebd-aa3233fb130b"
      },
      "execution_count": 13,
      "outputs": [
        {
          "output_type": "stream",
          "name": "stdout",
          "text": [
            "Mi fruta favorita es: piña.\n"
          ]
        }
      ]
    },
    {
      "cell_type": "code",
      "source": [
        "#Crea un código que solicite una frase y luego imprima la frase en pantalla"
      ],
      "metadata": {
        "id": "ki_SI3Xyd73n"
      },
      "execution_count": null,
      "outputs": []
    },
    {
      "cell_type": "code",
      "source": [
        "frase_solicitada = str(input(\"cual es tu frase favorita?:\"))"
      ],
      "metadata": {
        "colab": {
          "base_uri": "https://localhost:8080/"
        },
        "id": "zvRpw8Ujd8Ar",
        "outputId": "779af9e3-fb66-46aa-b40a-cd4e741652b5"
      },
      "execution_count": 15,
      "outputs": [
        {
          "name": "stdout",
          "output_type": "stream",
          "text": [
            "cual es tu frase favorita?:me encanta el verano\n"
          ]
        }
      ]
    },
    {
      "cell_type": "code",
      "source": [
        "print (frase_solicitada)"
      ],
      "metadata": {
        "colab": {
          "base_uri": "https://localhost:8080/"
        },
        "id": "MCsV1AzIeyyg",
        "outputId": "d4caa38c-39d0-4933-9684-7c70c76a9239"
      },
      "execution_count": 16,
      "outputs": [
        {
          "output_type": "stream",
          "name": "stdout",
          "text": [
            "me encanta el verano\n"
          ]
        }
      ]
    },
    {
      "cell_type": "code",
      "source": [
        "#Crea un código que solicite una frase al usuario y\n",
        "#luego imprima la misma frase ingresada pero en mayúsculas."
      ],
      "metadata": {
        "id": "CyG3yyoyfBiF"
      },
      "execution_count": null,
      "outputs": []
    },
    {
      "cell_type": "code",
      "source": [
        "print(frase_solicitada.upper())"
      ],
      "metadata": {
        "colab": {
          "base_uri": "https://localhost:8080/"
        },
        "id": "Ob-oJ1_rfR8G",
        "outputId": "ef6a318a-d7d0-4312-8ef6-493328ad7a28"
      },
      "execution_count": 19,
      "outputs": [
        {
          "output_type": "stream",
          "name": "stdout",
          "text": [
            "ME ENCANTA EL VERANO\n"
          ]
        }
      ]
    },
    {
      "cell_type": "code",
      "source": [
        "#Crea un código que solicite una frase al usuario\n",
        "#y luego imprima la misma frase ingresada pero en minúsculas."
      ],
      "metadata": {
        "id": "_kEkE9pNgzNo"
      },
      "execution_count": null,
      "outputs": []
    },
    {
      "cell_type": "code",
      "source": [
        "frase_usuario = str(input(\"cual es tu frase favorita?:\"))"
      ],
      "metadata": {
        "colab": {
          "base_uri": "https://localhost:8080/"
        },
        "id": "pbRipNCSg6IW",
        "outputId": "b225f9a0-4481-4b66-d2c3-39495ea8faa2"
      },
      "execution_count": 20,
      "outputs": [
        {
          "name": "stdout",
          "output_type": "stream",
          "text": [
            "cual es tu frase favorita?:hay amor\n"
          ]
        }
      ]
    },
    {
      "cell_type": "code",
      "source": [
        "print(frase_usuario.upper())"
      ],
      "metadata": {
        "colab": {
          "base_uri": "https://localhost:8080/"
        },
        "id": "xGoanSP1g6Wa",
        "outputId": "294f5dc7-d94a-4c50-9839-86f89238d24e"
      },
      "execution_count": 21,
      "outputs": [
        {
          "output_type": "stream",
          "name": "stdout",
          "text": [
            "HAY AMOR\n"
          ]
        }
      ]
    },
    {
      "cell_type": "code",
      "source": [
        "#Crea una variable llamada \"frase\" y asígnale una cadena de texto de tu elección.\n",
        "# Luego, imprime la frase sin espacios en blanco al principio y al final."
      ],
      "metadata": {
        "id": "7fhSxBL6g6iK"
      },
      "execution_count": null,
      "outputs": []
    },
    {
      "cell_type": "code",
      "source": [
        "frase = \"Me gusta el choclo\"\n",
        "print (frase)"
      ],
      "metadata": {
        "colab": {
          "base_uri": "https://localhost:8080/"
        },
        "id": "_WB9xgfJg6sL",
        "outputId": "1ff5b392-b1df-47e9-dd6b-a99e1f3a75db"
      },
      "execution_count": 22,
      "outputs": [
        {
          "output_type": "stream",
          "name": "stdout",
          "text": [
            "Me gusta el choclo\n"
          ]
        }
      ]
    },
    {
      "cell_type": "code",
      "source": [
        "#Crea un código que solicite una frase al usuario\n",
        "#y luego imprima la misma frase sin espacios en blanco al principio y al final."
      ],
      "metadata": {
        "id": "S0pzTTfIg607"
      },
      "execution_count": null,
      "outputs": []
    },
    {
      "cell_type": "code",
      "source": [
        "frase_usuario = str(input(\"cual es tu frase favorita?:\"))"
      ],
      "metadata": {
        "colab": {
          "base_uri": "https://localhost:8080/"
        },
        "id": "XOG1K3qgho70",
        "outputId": "9c6d4d6c-b5c3-4ac3-96c7-006816eade69"
      },
      "execution_count": 23,
      "outputs": [
        {
          "name": "stdout",
          "output_type": "stream",
          "text": [
            "cual es tu frase favorita?:Taza de colores\n"
          ]
        }
      ]
    },
    {
      "cell_type": "code",
      "source": [
        "print(frase_usuario.strip())"
      ],
      "metadata": {
        "colab": {
          "base_uri": "https://localhost:8080/"
        },
        "id": "wIcRDTN2hpLA",
        "outputId": "35ba5cff-6582-4f18-ecd5-409f3bc05b9a"
      },
      "execution_count": 24,
      "outputs": [
        {
          "output_type": "stream",
          "name": "stdout",
          "text": [
            "Taza de colores\n"
          ]
        }
      ]
    },
    {
      "cell_type": "code",
      "source": [
        "#Crea un código que solicite una frase al usuario\n",
        "#y luego imprima la misma frase sin espacios en blanco al principio y al final,\n",
        "#además de convertirla a minúsculas."
      ],
      "metadata": {
        "id": "Md_jO8eyhpYY"
      },
      "execution_count": null,
      "outputs": []
    },
    {
      "cell_type": "code",
      "source": [
        "frase_usuario_mayuscula = str(input(\"cual es tu frase favorita?:\"))"
      ],
      "metadata": {
        "colab": {
          "base_uri": "https://localhost:8080/"
        },
        "id": "By9GNxf9hpnx",
        "outputId": "505410a8-4b22-4c14-bb66-83ebb380e89e"
      },
      "execution_count": 26,
      "outputs": [
        {
          "name": "stdout",
          "output_type": "stream",
          "text": [
            "cual es tu frase favorita?:ESTO ES MUY DIFICIL\n"
          ]
        }
      ]
    },
    {
      "cell_type": "code",
      "source": [
        "print (frase_usuario_mayuscula.lower())"
      ],
      "metadata": {
        "colab": {
          "base_uri": "https://localhost:8080/"
        },
        "id": "zBnA34dTioLq",
        "outputId": "132902dc-bc33-4d19-9efe-8eea29a18310"
      },
      "execution_count": 30,
      "outputs": [
        {
          "output_type": "stream",
          "name": "stdout",
          "text": [
            "esto es muy dificil\n"
          ]
        }
      ]
    },
    {
      "cell_type": "code",
      "source": [
        "#Crea un código que solicite una frase al usuario\n",
        "#y luego imprima la misma frase con todas las vocales \"e\" reemplazadas por la letra \"f\"."
      ],
      "metadata": {
        "id": "IsQztYQ0jmZR"
      },
      "execution_count": null,
      "outputs": []
    },
    {
      "cell_type": "code",
      "source": [
        "frase_ususrio_reemplazo = str(input(\"cual es tu frase favorita?:\"))"
      ],
      "metadata": {
        "colab": {
          "base_uri": "https://localhost:8080/"
        },
        "id": "4no8mqHrjufX",
        "outputId": "06ffab1a-2ab1-4d5b-cd14-1c99d1849d10"
      },
      "execution_count": 31,
      "outputs": [
        {
          "name": "stdout",
          "output_type": "stream",
          "text": [
            "cual es tu frase favorita?:me gusta el elefante\n"
          ]
        }
      ]
    },
    {
      "cell_type": "code",
      "source": [
        "print (frase_ususrio_reemplazo.replace(\"e\",\"f\"))\n"
      ],
      "metadata": {
        "colab": {
          "base_uri": "https://localhost:8080/"
        },
        "id": "Tb65UdyAj6qd",
        "outputId": "71a1e1e8-f50a-4862-ca8d-cc35bd9ae246"
      },
      "execution_count": 32,
      "outputs": [
        {
          "output_type": "stream",
          "name": "stdout",
          "text": [
            "mf gusta fl flffantf\n"
          ]
        }
      ]
    },
    {
      "cell_type": "code",
      "source": [
        "#Crea un código que solicite una frase al usuario\n",
        "#y luego imprima la misma frase con todas las vocales \"a\" reemplazadas por el carácter \"@\"."
      ],
      "metadata": {
        "id": "qVYcUneCkBSG"
      },
      "execution_count": null,
      "outputs": []
    },
    {
      "cell_type": "code",
      "source": [
        "frase_usuario_reemplazo = str(input(\"cual es tu frase favorita?:\"))"
      ],
      "metadata": {
        "colab": {
          "base_uri": "https://localhost:8080/"
        },
        "id": "i29-AXp2kLaJ",
        "outputId": "a362a5d5-c228-42bb-f91b-c0a43c341e8a"
      },
      "execution_count": 33,
      "outputs": [
        {
          "name": "stdout",
          "output_type": "stream",
          "text": [
            "cual es tu frase favorita?:me gusta el mar\n"
          ]
        }
      ]
    },
    {
      "cell_type": "code",
      "source": [
        "print (frase_usuario_reemplazo.replace(\"a\",\"@\"))"
      ],
      "metadata": {
        "colab": {
          "base_uri": "https://localhost:8080/"
        },
        "id": "p9MsG0CAkY1l",
        "outputId": "91c71e2c-4a1a-42ec-dfb0-bb9fa56c65e7"
      },
      "execution_count": 34,
      "outputs": [
        {
          "output_type": "stream",
          "name": "stdout",
          "text": [
            "me gust@ el m@r\n"
          ]
        }
      ]
    },
    {
      "cell_type": "code",
      "source": [
        "#Crea un código que solicite una frase al usuario y luego\n",
        "#imprima la misma frase con todas las consonantes \"s\" reemplazadas por el carácter \"$\"."
      ],
      "metadata": {
        "id": "jgmdnWj8kZDA"
      },
      "execution_count": null,
      "outputs": []
    },
    {
      "cell_type": "code",
      "source": [
        "print (frase_usuario_reemplazo.replace(\"s\",\"$\"))\n"
      ],
      "metadata": {
        "colab": {
          "base_uri": "https://localhost:8080/"
        },
        "id": "uPWEdIdmkocl",
        "outputId": "ee8eddbb-f558-42aa-d7fc-f3cce28af91a"
      },
      "execution_count": 35,
      "outputs": [
        {
          "output_type": "stream",
          "name": "stdout",
          "text": [
            "me gu$ta el mar\n"
          ]
        }
      ]
    },
    {
      "cell_type": "code",
      "source": [],
      "metadata": {
        "id": "iee5omtmkzz0"
      },
      "execution_count": null,
      "outputs": []
    }
  ]
}